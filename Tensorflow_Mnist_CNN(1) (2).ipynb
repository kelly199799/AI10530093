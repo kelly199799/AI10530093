{
  "nbformat": 4,
  "nbformat_minor": 0,
  "metadata": {
    "colab": {
      "name": "Tensorflow_Mnist_CNN(1).ipynb",
      "version": "0.3.2",
      "provenance": [],
      "collapsed_sections": []
    },
    "kernelspec": {
      "display_name": "Python 3",
      "language": "python",
      "name": "python3"
    }
  },
  "cells": [
    {
      "metadata": {
        "id": "JKVZMQ3UFqTA",
        "colab_type": "text"
      },
      "cell_type": "markdown",
      "source": [
        "# 資料準備"
      ]
    },
    {
      "metadata": {
        "id": "YPqmeTloFqTB",
        "colab_type": "code",
        "colab": {
          "base_uri": "https://localhost:8080/",
          "height": 85
        },
        "outputId": "e8ad83bc-02fb-40e3-94b4-2fea984ff775"
      },
      "cell_type": "code",
      "source": [
        "import tensorflow as tf\n",
        "import tensorflow.examples.tutorials.mnist.input_data as input_data\n",
        "mnist = input_data.read_data_sets(\"MNIST_data/\", one_hot=True)"
      ],
      "execution_count": 154,
      "outputs": [
        {
          "output_type": "stream",
          "text": [
            "Extracting MNIST_data/train-images-idx3-ubyte.gz\n",
            "Extracting MNIST_data/train-labels-idx1-ubyte.gz\n",
            "Extracting MNIST_data/t10k-images-idx3-ubyte.gz\n",
            "Extracting MNIST_data/t10k-labels-idx1-ubyte.gz\n"
          ],
          "name": "stdout"
        }
      ]
    },
    {
      "metadata": {
        "id": "mhzOIkCSFqTG",
        "colab_type": "text"
      },
      "cell_type": "markdown",
      "source": [
        "# 建立共用函數"
      ]
    },
    {
      "metadata": {
        "id": "GlnvLBVhFqTH",
        "colab_type": "code",
        "colab": {}
      },
      "cell_type": "code",
      "source": [
        "def weight(shape):\n",
        "    return tf.Variable(tf.truncated_normal(shape, stddev=0.1),\n",
        "                       name ='W')"
      ],
      "execution_count": 0,
      "outputs": []
    },
    {
      "metadata": {
        "id": "bCAlZ_4WFqTK",
        "colab_type": "code",
        "colab": {}
      },
      "cell_type": "code",
      "source": [
        "def bias(shape):\n",
        "    return tf.Variable(tf.constant(0.1, shape=shape)\n",
        "                       , name = 'b')"
      ],
      "execution_count": 0,
      "outputs": []
    },
    {
      "metadata": {
        "id": "e6OyxQHsFqTM",
        "colab_type": "code",
        "colab": {}
      },
      "cell_type": "code",
      "source": [
        "def conv2d(x, W):\n",
        "    return tf.nn.conv2d(x, W, strides=[1,1,1,1], \n",
        "                        padding='SAME')"
      ],
      "execution_count": 0,
      "outputs": []
    },
    {
      "metadata": {
        "id": "E00bA_UWFqTP",
        "colab_type": "code",
        "colab": {}
      },
      "cell_type": "code",
      "source": [
        "def max_pool_2x2(x):\n",
        "    return tf.nn.max_pool(x, ksize=[1,2,2,1], \n",
        "                          strides=[1,2,2,1], \n",
        "                          padding='SAME')"
      ],
      "execution_count": 0,
      "outputs": []
    },
    {
      "metadata": {
        "collapsed": true,
        "id": "oAITHCcxFqTS",
        "colab_type": "text"
      },
      "cell_type": "markdown",
      "source": [
        "# 輸入層 Input Layer"
      ]
    },
    {
      "metadata": {
        "id": "afmwaXyTFqTS",
        "colab_type": "code",
        "colab": {}
      },
      "cell_type": "code",
      "source": [
        "with tf.name_scope('Input_Layer'):\n",
        "    x = tf.placeholder(\"float\",shape=[None, 784]\n",
        "                       ,name=\"x\")    \n",
        "    x_image = tf.reshape(x, [-1, 28, 28, 1])"
      ],
      "execution_count": 0,
      "outputs": []
    },
    {
      "metadata": {
        "id": "_DycNvTUFqTV",
        "colab_type": "text"
      },
      "cell_type": "markdown",
      "source": [
        "# Convolutional Layer 1"
      ]
    },
    {
      "metadata": {
        "id": "gv9MSyuGFqTW",
        "colab_type": "code",
        "colab": {}
      },
      "cell_type": "code",
      "source": [
        "with tf.name_scope('C1_Conv'):\n",
        "    W1 = weight([5,5,1,16])\n",
        "    b1 = bias([16])\n",
        "    Conv1=conv2d(x_image, W1)+ b1\n",
        "    C1_Conv = tf.nn.relu(Conv1 )"
      ],
      "execution_count": 0,
      "outputs": []
    },
    {
      "metadata": {
        "id": "1CRq-A6jFqTZ",
        "colab_type": "code",
        "colab": {}
      },
      "cell_type": "code",
      "source": [
        "with tf.name_scope('C1_Pool'):\n",
        "    C1_Pool = max_pool_2x2(C1_Conv)"
      ],
      "execution_count": 0,
      "outputs": []
    },
    {
      "metadata": {
        "id": "lMibWoZ-FqTa",
        "colab_type": "text"
      },
      "cell_type": "markdown",
      "source": [
        "# Convolutional Layer 2"
      ]
    },
    {
      "metadata": {
        "id": "Ad7HEa-KFqTb",
        "colab_type": "code",
        "colab": {}
      },
      "cell_type": "code",
      "source": [
        "with tf.name_scope('C2_Conv'):\n",
        "    W2 = weight([5,5,16,36])\n",
        "    b2 = bias([36])\n",
        "    Conv2=conv2d(C1_Pool, W2)+ b2\n",
        "    C2_Conv = tf.nn.relu(Conv2)"
      ],
      "execution_count": 0,
      "outputs": []
    },
    {
      "metadata": {
        "id": "k3SFluB6FqTe",
        "colab_type": "code",
        "colab": {}
      },
      "cell_type": "code",
      "source": [
        "with tf.name_scope('C2_Pool'):\n",
        "    C2_Pool = max_pool_2x2(C2_Conv) "
      ],
      "execution_count": 0,
      "outputs": []
    },
    {
      "metadata": {
        "id": "OO8zlZHcFqTg",
        "colab_type": "text"
      },
      "cell_type": "markdown",
      "source": [
        "# Fully Connected Layer"
      ]
    },
    {
      "metadata": {
        "id": "ehVkG1AtFqTh",
        "colab_type": "code",
        "colab": {}
      },
      "cell_type": "code",
      "source": [
        "with tf.name_scope('D_Flat'):\n",
        "    D_Flat = tf.reshape(C2_Pool, [-1, 1764])"
      ],
      "execution_count": 0,
      "outputs": []
    },
    {
      "metadata": {
        "id": "onoPFMa9FqTk",
        "colab_type": "code",
        "colab": {}
      },
      "cell_type": "code",
      "source": [
        "with tf.name_scope('D_Hidden_Layer'):\n",
        "    W3= weight([1764, 128])\n",
        "    b3= bias([128])\n",
        "    D_Hidden = tf.nn.relu(\n",
        "                  tf.matmul(D_Flat, W3)+b3)\n",
        "    D_Hidden_Dropout= tf.nn.dropout(D_Hidden, \n",
        "                                keep_prob=0.8)"
      ],
      "execution_count": 0,
      "outputs": []
    },
    {
      "metadata": {
        "collapsed": true,
        "id": "ze63-CpFFqTn",
        "colab_type": "text"
      },
      "cell_type": "markdown",
      "source": [
        "# 輸出層Output"
      ]
    },
    {
      "metadata": {
        "id": "DQnT8PtMFqTo",
        "colab_type": "code",
        "colab": {}
      },
      "cell_type": "code",
      "source": [
        "with tf.name_scope('Output_Layer'):\n",
        "    W4 = weight([128,10])\n",
        "    b4 = bias([10])\n",
        "    y_predict= tf.nn.softmax(\n",
        "                 tf.matmul(D_Hidden_Dropout,\n",
        "                           W4)+b4)"
      ],
      "execution_count": 0,
      "outputs": []
    },
    {
      "metadata": {
        "id": "H2NFyia3FqTq",
        "colab_type": "text"
      },
      "cell_type": "markdown",
      "source": [
        "# 設定訓練模型最佳化步驟"
      ]
    },
    {
      "metadata": {
        "id": "4iaj8IyXFqTr",
        "colab_type": "code",
        "colab": {}
      },
      "cell_type": "code",
      "source": [
        "with tf.name_scope(\"optimizer\"):\n",
        "    \n",
        "    y_label = tf.placeholder(\"float\", shape=[None, 10], \n",
        "                              name=\"y_label\")\n",
        "    \n",
        "    loss_function = tf.reduce_mean(\n",
        "                      tf.nn.softmax_cross_entropy_with_logits\n",
        "                         (logits=y_predict , \n",
        "                          labels=y_label))\n",
        "    \n",
        "    optimizer = tf.train.AdamOptimizer(learning_rate=0.0001) \\\n",
        "                    .minimize(loss_function)"
      ],
      "execution_count": 0,
      "outputs": []
    },
    {
      "metadata": {
        "id": "ZpNAAp5eFqTu",
        "colab_type": "text"
      },
      "cell_type": "markdown",
      "source": [
        "# 設定評估模型"
      ]
    },
    {
      "metadata": {
        "id": "cdeBgZ4lFqTv",
        "colab_type": "code",
        "colab": {}
      },
      "cell_type": "code",
      "source": [
        "with tf.name_scope(\"evaluate_model\"):\n",
        "    correct_prediction = tf.equal(tf.argmax(y_predict, 1),\n",
        "                                  tf.argmax(y_label, 1))\n",
        "    accuracy = tf.reduce_mean(tf.cast(correct_prediction, \"float\"))"
      ],
      "execution_count": 0,
      "outputs": []
    },
    {
      "metadata": {
        "id": "LHrpK3XLFqTz",
        "colab_type": "text"
      },
      "cell_type": "markdown",
      "source": [
        "# 訓練模型"
      ]
    },
    {
      "metadata": {
        "id": "Q9yfldn0FqT0",
        "colab_type": "code",
        "colab": {}
      },
      "cell_type": "code",
      "source": [
        "trainEpochs = 5\n",
        "batchSize = 100\n",
        "totalBatchs = int(mnist.train.num_examples/batchSize)\n",
        "epoch_list=[];accuracy_list=[];loss_list=[];\n",
        "from time import time\n",
        "startTime=time()\n",
        "sess = tf.Session()\n",
        "sess.run(tf.global_variables_initializer())"
      ],
      "execution_count": 0,
      "outputs": []
    },
    {
      "metadata": {
        "id": "XpSX9XLOFqT2",
        "colab_type": "code",
        "colab": {
          "base_uri": "https://localhost:8080/",
          "height": 119
        },
        "outputId": "10c52046-eb03-49d0-fc74-d2d9930a5d8e"
      },
      "cell_type": "code",
      "source": [
        "for epoch in range(trainEpochs):\n",
        "\n",
        "    \n",
        "    for i in range(totalBatchs):\n",
        "        batch_x, batch_y = mnist.train.next_batch(batchSize)\n",
        "        sess.run(optimizer,feed_dict={x: batch_x,\n",
        "                                      y_label: batch_y})\n",
        "        \n",
        "    \n",
        "    loss,acc = sess.run([loss_function,accuracy],\n",
        "                        feed_dict={x: mnist.validation.images, \n",
        "                                   y_label: mnist.validation.labels})\n",
        "\n",
        "    epoch_list.append(epoch)\n",
        "    loss_list.append(loss);accuracy_list.append(acc)    \n",
        "    \n",
        "    print(\"Train Epoch:\", '%02d' % (epoch+1), \\\n",
        "          \"Loss=\",\"{:.9f}\".format(loss),\" Accuracy=\",acc)\n",
        "    \n",
        "duration =time()-startTime\n",
        "print(\"Train Finished takes:\",duration)         "
      ],
      "execution_count": 170,
      "outputs": [
        {
          "output_type": "stream",
          "text": [
            "Train Epoch: 01 Loss= 1.585741758  Accuracy= 0.9026\n",
            "Train Epoch: 02 Loss= 1.540864944  Accuracy= 0.931\n",
            "Train Epoch: 03 Loss= 1.519784689  Accuracy= 0.9504\n",
            "Train Epoch: 04 Loss= 1.507234812  Accuracy= 0.9602\n",
            "Train Epoch: 05 Loss= 1.504605293  Accuracy= 0.9602\n",
            "Train Finished takes: 369.5980861186981\n"
          ],
          "name": "stdout"
        }
      ]
    },
    {
      "metadata": {
        "id": "KYiQGXEPFqT5",
        "colab_type": "code",
        "colab": {
          "base_uri": "https://localhost:8080/",
          "height": 188
        },
        "outputId": "ab2ee887-df6a-4a57-f08c-8bcce8e661ce"
      },
      "cell_type": "code",
      "source": [
        "%matplotlib inline\n",
        "import matplotlib.pyplot as plt\n",
        "fig = plt.gcf()\n",
        "fig.set_size_inches(4,2)\n",
        "plt.plot(epoch_list, loss_list, label = 'loss')\n",
        "plt.ylabel('loss')\n",
        "plt.xlabel('epoch')\n",
        "plt.legend(['loss'], loc='upper left')"
      ],
      "execution_count": 171,
      "outputs": [
        {
          "output_type": "execute_result",
          "data": {
            "text/plain": [
              "<matplotlib.legend.Legend at 0x7f14be609cf8>"
            ]
          },
          "metadata": {
            "tags": []
          },
          "execution_count": 171
        },
        {
          "output_type": "display_data",
          "data": {
            "image/png": "[encoded data removed]",
            "text/plain": [
              "<matplotlib.figure.Figure at 0x7f14be4446d8>"
            ]
          },
          "metadata": {
            "tags": []
          }
        }
      ]
    },
    {
      "metadata": {
        "id": "U-klLwzgFqT7",
        "colab_type": "code",
        "colab": {
          "base_uri": "https://localhost:8080/",
          "height": 175
        },
        "outputId": "b2842b61-016c-4f93-bdee-16ee8ff50860"
      },
      "cell_type": "code",
      "source": [
        "plt.plot(epoch_list, accuracy_list,label=\"accuracy\" )\n",
        "fig = plt.gcf()\n",
        "fig.set_size_inches(4,2)\n",
        "plt.ylim(0.8,1)\n",
        "plt.ylabel('accuracy')\n",
        "plt.xlabel('epoch')\n",
        "plt.legend()\n",
        "plt.show()\n"
      ],
      "execution_count": 172,
      "outputs": [
        {
          "output_type": "display_data",
          "data": {
            "image/png": "[encoded data removed]",
            "text/plain": [
              "<matplotlib.figure.Figure at 0x7f14bc3f1550>"
            ]
          },
          "metadata": {
            "tags": []
          }
        }
      ]
    },
    {
      "metadata": {
        "id": "UWtKrKUkFqT-",
        "colab_type": "text"
      },
      "cell_type": "markdown",
      "source": [
        "# 評估模型準確率"
      ]
    },
    {
      "metadata": {
        "id": "IRAqdTYGFqUA",
        "colab_type": "code",
        "colab": {
          "base_uri": "https://localhost:8080/",
          "height": 34
        },
        "outputId": "a2f45c8a-69b5-40aa-dfad-8ee35c50fdd3"
      },
      "cell_type": "code",
      "source": [
        "len(mnist.test.images)"
      ],
      "execution_count": 173,
      "outputs": [
        {
          "output_type": "execute_result",
          "data": {
            "text/plain": [
              "10000"
            ]
          },
          "metadata": {
            "tags": []
          },
          "execution_count": 173
        }
      ]
    },
    {
      "metadata": {
        "id": "CfTVwqnUFqUC",
        "colab_type": "code",
        "colab": {
          "base_uri": "https://localhost:8080/",
          "height": 34
        },
        "outputId": "daf58fab-2fb6-4424-bc64-c357a2cd6971"
      },
      "cell_type": "code",
      "source": [
        "print(\"Accuracy:\", \n",
        "      sess.run(accuracy,feed_dict={x: mnist.test.images,\n",
        "                                   y_label: mnist.test.labels}))"
      ],
      "execution_count": 174,
      "outputs": [
        {
          "output_type": "stream",
          "text": [
            "Accuracy: 0.962\n"
          ],
          "name": "stdout"
        }
      ]
    },
    {
      "metadata": {
        "id": "QoZ1lPtHFqUF",
        "colab_type": "code",
        "colab": {
          "base_uri": "https://localhost:8080/",
          "height": 34
        },
        "outputId": "d47fb1c4-fd6d-4c11-ced8-bc65e2007ff5"
      },
      "cell_type": "code",
      "source": [
        "print(\"Accuracy:\", \n",
        "      sess.run(accuracy,feed_dict={x: mnist.test.images[:5000],\n",
        "                                   y_label: mnist.test.labels[:5000]}))\n"
      ],
      "execution_count": 175,
      "outputs": [
        {
          "output_type": "stream",
          "text": [
            "Accuracy: 0.9462\n"
          ],
          "name": "stdout"
        }
      ]
    },
    {
      "metadata": {
        "id": "7J7U8Nu0FqUH",
        "colab_type": "code",
        "colab": {
          "base_uri": "https://localhost:8080/",
          "height": 34
        },
        "outputId": "8c0b6fc3-dd9b-4507-e3d0-8d23d0726d5d"
      },
      "cell_type": "code",
      "source": [
        "print(\"Accuracy:\", \n",
        "      sess.run(accuracy,feed_dict={x: mnist.test.images[5000:],\n",
        "                                   y_label: mnist.test.labels[5000:]}))"
      ],
      "execution_count": 176,
      "outputs": [
        {
          "output_type": "stream",
          "text": [
            "Accuracy: 0.975\n"
          ],
          "name": "stdout"
        }
      ]
    },
    {
      "metadata": {
        "id": "r8YpDCw5FqUM",
        "colab_type": "text"
      },
      "cell_type": "markdown",
      "source": [
        "# 預測機率"
      ]
    },
    {
      "metadata": {
        "id": "cvA-t0-LFqUN",
        "colab_type": "code",
        "colab": {
          "base_uri": "https://localhost:8080/",
          "height": 34
        },
        "outputId": "233bc46a-b35e-4750-cec6-c71dbbb87527"
      },
      "cell_type": "code",
      "source": [
        "#y_predict=sess.run(y_predict, \n",
        "#                  feed_dict={x: mnist.test.images[:5000]})\n",
        "print(mnist.test.images[0].shape)"
      ],
      "execution_count": 177,
      "outputs": [
        {
          "output_type": "stream",
          "text": [
            "(784,)\n"
          ],
          "name": "stdout"
        }
      ]
    },
    {
      "metadata": {
        "id": "oKtLmQQUFqUP",
        "colab_type": "code",
        "colab": {
          "base_uri": "https://localhost:8080/",
          "height": 34
        },
        "outputId": "43e64ba1-455e-4dc2-ba94-e579ce1e4e5e"
      },
      "cell_type": "code",
      "source": [
        "y_predict[:5]"
      ],
      "execution_count": 178,
      "outputs": [
        {
          "output_type": "execute_result",
          "data": {
            "text/plain": [
              "<tf.Tensor 'strided_slice_1:0' shape=(?, 10) dtype=float32>"
            ]
          },
          "metadata": {
            "tags": []
          },
          "execution_count": 178
        }
      ]
    },
    {
      "metadata": {
        "id": "MYHnpkR7FqUS",
        "colab_type": "text"
      },
      "cell_type": "markdown",
      "source": [
        "# 預測結果"
      ]
    },
    {
      "metadata": {
        "id": "xFVMn14cFqUT",
        "colab_type": "code",
        "colab": {}
      },
      "cell_type": "code",
      "source": [
        "prediction_result=sess.run(tf.argmax(y_predict,1),\n",
        "                           feed_dict={x: mnist.test.images ,\n",
        "                                      y_label: mnist.test.labels})"
      ],
      "execution_count": 0,
      "outputs": []
    },
    {
      "metadata": {
        "id": "XRwk5jvPFqUV",
        "colab_type": "code",
        "colab": {
          "base_uri": "https://localhost:8080/",
          "height": 34
        },
        "outputId": "3a8521bd-8d50-4e4f-c1fc-c98b285a1dda"
      },
      "cell_type": "code",
      "source": [
        "prediction_result[:10]"
      ],
      "execution_count": 180,
      "outputs": [
        {
          "output_type": "execute_result",
          "data": {
            "text/plain": [
              "array([7, 2, 1, 0, 4, 1, 4, 9, 5, 9])"
            ]
          },
          "metadata": {
            "tags": []
          },
          "execution_count": 180
        }
      ]
    },
    {
      "metadata": {
        "id": "ncs8tBAfFqUX",
        "colab_type": "code",
        "colab": {}
      },
      "cell_type": "code",
      "source": [
        "import numpy as np\n",
        "def show_images_labels_predict(images,labels,prediction_result):\n",
        "    fig = plt.gcf()\n",
        "    fig.set_size_inches(8, 10)\n",
        "    for i in range(0, 10):\n",
        "        ax=plt.subplot(5,5, 1+i)\n",
        "        ax.imshow(np.reshape(images[i],(28, 28)), \n",
        "                  cmap='binary')\n",
        "        ax.set_title(\"label=\" +str(np.argmax(labels[i]))+\n",
        "                     \",predict=\"+str(prediction_result[i])\n",
        "                     ,fontsize=9) \n",
        "    plt.show()"
      ],
      "execution_count": 0,
      "outputs": []
    },
    {
      "metadata": {
        "id": "xtmDEFWrFqUa",
        "colab_type": "code",
        "colab": {
          "base_uri": "https://localhost:8080/",
          "height": 250
        },
        "outputId": "9bb20ff9-42a2-44c2-a982-4ed580573191"
      },
      "cell_type": "code",
      "source": [
        "show_images_labels_predict(mnist.test.images,mnist.test.labels,prediction_result)"
      ],
      "execution_count": 182,
      "outputs": [
        {
          "output_type": "display_data",
          "data": {
            "image/png": "[encoded data removed]",
            "text/plain": [
              "<matplotlib.figure.Figure at 0x7f14bc2fb9e8>"
            ]
          },
          "metadata": {
            "tags": []
          }
        }
      ]
    },
    {
      "metadata": {
        "id": "tmT5dNUAFqUc",
        "colab_type": "text"
      },
      "cell_type": "markdown",
      "source": [
        "# 找出預測錯誤"
      ]
    },
    {
      "metadata": {
        "id": "oehGrSnjFqUd",
        "colab_type": "code",
        "colab": {
          "base_uri": "https://localhost:8080/",
          "height": 255
        },
        "outputId": "f234ba82-10a0-4e83-bca1-b9f3255b8277"
      },
      "cell_type": "code",
      "source": [
        "for i in range(500):\n",
        "    if prediction_result[i]!=np.argmax(mnist.test.labels[i]):\n",
        "        print(\"i=\"+str(i)+\n",
        "              \"   label=\",np.argmax(mnist.test.labels[i]),\n",
        "              \"predict=\",prediction_result[i])"
      ],
      "execution_count": 183,
      "outputs": [
        {
          "output_type": "stream",
          "text": [
            "i=151   label= 9 predict= 8\n",
            "i=241   label= 9 predict= 8\n",
            "i=247   label= 4 predict= 2\n",
            "i=259   label= 6 predict= 0\n",
            "i=290   label= 8 predict= 4\n",
            "i=320   label= 9 predict= 7\n",
            "i=321   label= 2 predict= 7\n",
            "i=340   label= 5 predict= 3\n",
            "i=359   label= 9 predict= 4\n",
            "i=412   label= 5 predict= 3\n",
            "i=445   label= 6 predict= 0\n",
            "i=448   label= 9 predict= 8\n",
            "i=479   label= 9 predict= 8\n",
            "i=495   label= 8 predict= 0\n"
          ],
          "name": "stdout"
        }
      ]
    },
    {
      "metadata": {
        "id": "G0CufzpNFqUf",
        "colab_type": "code",
        "colab": {}
      },
      "cell_type": "code",
      "source": [
        "def show_images_labels_predict_error(images,labels,prediction_result):\n",
        "    fig = plt.gcf()\n",
        "    fig.set_size_inches(8, 10)\n",
        "    i=0;j=0\n",
        "    while i<10:\n",
        "        if prediction_result[j]!=np.argmax(labels[j]):\n",
        "            ax=plt.subplot(5,5, 1+i)\n",
        "            ax.imshow(np.reshape(images[j],(28, 28)), \n",
        "                      cmap='binary')\n",
        "            ax.set_title(\"j=\"+str(j)+\n",
        "                         \",l=\" +str(np.argmax(labels[j]))+\n",
        "                         \",p=\"+str(prediction_result[j])\n",
        "                         ,fontsize=9) \n",
        "            i=i+1  \n",
        "        j=j+1\n",
        "    plt.show()"
      ],
      "execution_count": 0,
      "outputs": []
    },
    {
      "metadata": {
        "id": "6sovKAwVFqUi",
        "colab_type": "code",
        "colab": {
          "base_uri": "https://localhost:8080/",
          "height": 250
        },
        "outputId": "4748d7c7-7d3c-4b3e-b48a-f0d0dc9938a7"
      },
      "cell_type": "code",
      "source": [
        "show_images_labels_predict_error(mnist.test.images,mnist.test.labels,prediction_result)"
      ],
      "execution_count": 185,
      "outputs": [
        {
          "output_type": "display_data",
          "data": {
            "image/png": "[encoded data removed]",
            "text/plain": [
              "<matplotlib.figure.Figure at 0x7f14bae40048>"
            ]
          },
          "metadata": {
            "tags": []
          }
        }
      ]
    },
    {
      "metadata": {
        "id": "HCrSyog2FqUl",
        "colab_type": "code",
        "colab": {}
      },
      "cell_type": "code",
      "source": [
        "saver = tf.train.Saver()"
      ],
      "execution_count": 0,
      "outputs": []
    },
    {
      "metadata": {
        "id": "I_bsU8SBFqUq",
        "colab_type": "code",
        "colab": {}
      },
      "cell_type": "code",
      "source": [
        "save_path = saver.save(sess, \"saveModel/CNN_model1\")"
      ],
      "execution_count": 0,
      "outputs": []
    },
    {
      "metadata": {
        "id": "RuG9PlzVFqUt",
        "colab_type": "code",
        "colab": {
          "base_uri": "https://localhost:8080/",
          "height": 34
        },
        "outputId": "57c7ee84-b7b6-4bff-8ff9-598ddc645e60"
      },
      "cell_type": "code",
      "source": [
        "print(\"Model saved in file: %s\" % save_path)"
      ],
      "execution_count": 188,
      "outputs": [
        {
          "output_type": "stream",
          "text": [
            "Model saved in file: saveModel/CNN_model1\n"
          ],
          "name": "stdout"
        }
      ]
    },
    {
      "metadata": {
        "id": "FfObnqSoFqUw",
        "colab_type": "code",
        "colab": {}
      },
      "cell_type": "code",
      "source": [
        "merged = tf.summary.merge_all()\n",
        "train_writer = tf.summary.FileWriter('log/CNN',sess.graph)"
      ],
      "execution_count": 0,
      "outputs": []
    },
    {
      "metadata": {
        "id": "xNKylXdQFqUy",
        "colab_type": "code",
        "colab": {}
      },
      "cell_type": "code",
      "source": [
        "#sess.close()"
      ],
      "execution_count": 0,
      "outputs": []
    },
    {
      "metadata": {
        "id": "nU52YMoVO19H",
        "colab_type": "code",
        "colab": {
          "base_uri": "https://localhost:8080/",
          "height": 34
        },
        "outputId": "bd6032e0-caf7-4f48-8561-1890f70d10f8"
      },
      "cell_type": "code",
      "source": [
        "from google.colab import drive\n",
        "drive.mount('/content/drive/')"
      ],
      "execution_count": 191,
      "outputs": [
        {
          "output_type": "stream",
          "text": [
            "Drive already mounted at /content/drive/; to attempt to forcibly remount, call drive.mount(\"/content/drive/\", force_remount=True).\n"
          ],
          "name": "stdout"
        }
      ]
    },
    {
      "metadata": {
        "id": "PEi1bz20Q74o",
        "colab_type": "code",
        "colab": {
          "base_uri": "https://localhost:8080/",
          "height": 391
        },
        "outputId": "346c2b60-ba96-493c-83cf-4034ca10b3f8"
      },
      "cell_type": "code",
      "source": [
        "import os\n",
        "os.chdir(\"/content/drive//My Drive/Colab Notebooks\")\n",
        "cwd = os.getcwd()\n",
        "print(cwd)\n",
        "!ls"
      ],
      "execution_count": 192,
      "outputs": [
        {
          "output_type": "stream",
          "text": [
            "/content/drive/My Drive/Colab Notebooks\n",
            " bin2result.png\n",
            " Keras_Cifar_CNN_Continue_Train.ipynb\n",
            " Keras_Cifar_CNN_Deeper_Conv3.ipynb\n",
            " Keras_Mnist_MLP_h256.ipynb\n",
            "'Lecture_save&store_model_predict.ipynb'\n",
            " log\n",
            " MNIST_data\n",
            " p2.png\n",
            " plot_image.ipynb\n",
            " saveModel\n",
            " TensorFlow_Basic.ipynb\n",
            "'Tensorflow_Mnist_CNN(1).ipynb'\n",
            "'“Tensorflow_Mnist_CNN(1).ipynb”的副本'\n",
            " Tensorflow_Mnist_CNN.ipynb\n",
            " Tensorflow_Mnist_CNN.ipynb_test\n",
            " Tensorflow_Mnist_MLP_h256.ipynb\n",
            " TensorFlow_Tensor_neural.ipynb\n",
            " test0.ipynb\n",
            " trainandpredict.ipynb\n",
            " Untitled0.ipynb\n",
            " Untitled1.ipynb\n"
          ],
          "name": "stdout"
        }
      ]
    },
    {
      "metadata": {
        "id": "-v1DY2CcWGtS",
        "colab_type": "code",
        "colab": {
          "base_uri": "https://localhost:8080/",
          "height": 2662
        },
        "outputId": "33d177d3-49d5-4483-a5b1-7fa614e97a73"
      },
      "cell_type": "code",
      "source": [
        "# plot image\n",
        "import matplotlib.pyplot as plt\n",
        "from matplotlib.image import imread\n",
        "\n",
        "img = imread('p2.png') # 画像の読み込み\n",
        "img=1.0-img[:,:,0]\n",
        "plt.imshow(img)\n",
        "print(img.shape)\n",
        "print(img)\n",
        "plt.show()"
      ],
      "execution_count": 193,
      "outputs": [
        {
          "output_type": "stream",
          "text": [
            "(28, 28)\n",
            "[[0.         0.         0.         0.         0.         0.\n",
            "  0.         0.         0.         0.         0.         0.\n",
            "  0.         0.         0.         0.         0.         0.\n",
            "  0.         0.         0.         0.         0.         0.\n",
            "  0.         0.         0.         0.        ]\n",
            " [0.         0.         0.         0.         0.         0.\n",
            "  0.         0.         0.         0.         0.         0.\n",
            "  0.         0.         0.         0.         0.         0.\n",
            "  0.         0.         0.         0.         0.         0.\n",
            "  0.         0.         0.         0.        ]\n",
            " [0.         0.         0.         0.         0.         0.\n",
            "  0.         0.         0.         0.         0.         0.\n",
            "  0.         0.         0.         0.         0.         0.\n",
            "  0.         0.         0.         0.         0.         0.\n",
            "  0.         0.         0.         0.        ]\n",
            " [0.         0.         0.         0.         0.         0.\n",
            "  0.         0.         0.         0.         0.         0.\n",
            "  0.         0.         0.         0.         0.         0.\n",
            "  0.         0.         0.         0.         0.         0.\n",
            "  0.         0.         0.         0.        ]\n",
            " [0.         0.         0.         0.         0.28235292 0.8745098\n",
            "  1.         0.8745098  0.4078431  0.         0.         0.\n",
            "  0.         0.         0.         0.         0.         0.\n",
            "  0.         0.         0.         0.         0.         0.\n",
            "  0.         0.         0.         0.        ]\n",
            " [0.         0.         0.         0.         0.8745098  1.\n",
            "  1.         1.         1.         1.         1.         1.\n",
            "  0.8745098  0.37647057 0.         0.         0.         0.\n",
            "  0.         0.         0.         0.         0.         0.\n",
            "  0.         0.         0.         0.        ]\n",
            " [0.         0.         0.         0.         0.4705882  1.\n",
            "  1.         1.         1.         1.         1.         1.\n",
            "  1.         0.96862745 0.         0.         0.         0.\n",
            "  0.         0.         0.         0.         0.         0.\n",
            "  0.         0.         0.         0.        ]\n",
            " [0.         0.         0.         0.         0.         0.\n",
            "  0.03137255 0.62352943 1.         1.         1.         1.\n",
            "  1.         1.         0.         0.         0.         0.\n",
            "  0.         0.         0.         0.         0.         0.\n",
            "  0.         0.         0.         0.        ]\n",
            " [0.         0.         0.         0.         0.         0.\n",
            "  0.         0.         0.         0.         0.         1.\n",
            "  1.         1.         0.         0.         0.         0.\n",
            "  0.         0.         0.         0.         0.         0.\n",
            "  0.         0.         0.         0.        ]\n",
            " [0.         0.         0.         0.         0.         0.\n",
            "  0.         0.         0.         0.         0.         1.\n",
            "  1.         1.         0.         0.         0.         0.\n",
            "  0.         0.         0.         0.         0.         0.\n",
            "  0.         0.         0.         0.        ]\n",
            " [0.         0.         0.         0.         0.         0.\n",
            "  0.         0.         0.         0.         0.28235292 1.\n",
            "  1.         1.         0.         0.         0.         0.\n",
            "  0.         0.         0.         0.         0.         0.\n",
            "  0.         0.         0.         0.        ]\n",
            " [0.         0.         0.         0.         0.         0.\n",
            "  0.         0.         0.         0.         0.90588236 1.\n",
            "  1.         1.         0.         0.         0.         0.\n",
            "  0.         0.         0.         0.         0.         0.\n",
            "  0.         0.         0.         0.        ]\n",
            " [0.         0.         0.         0.         0.         0.\n",
            "  0.         0.         0.         0.4078431  1.         1.\n",
            "  1.         0.5921569  0.         0.         0.         0.\n",
            "  0.         0.         0.         0.         0.         0.\n",
            "  0.         0.         0.         0.        ]\n",
            " [0.         0.         0.         0.         0.         0.\n",
            "  0.         0.28235292 0.8745098  1.         1.         1.\n",
            "  0.654902   0.         0.         0.         0.         0.\n",
            "  0.         0.         0.         0.         0.         0.\n",
            "  0.         0.         0.         0.        ]\n",
            " [0.         0.         0.         0.         0.         0.\n",
            "  0.28235292 0.9372549  1.         1.         1.         1.\n",
            "  0.03137255 0.         0.         0.         0.         0.\n",
            "  0.         0.         0.         0.         0.         0.\n",
            "  0.         0.         0.         0.        ]\n",
            " [0.         0.         0.         0.         0.         0.28235292\n",
            "  0.9372549  1.         1.         1.         1.         0.5921569\n",
            "  0.         0.         0.         0.         0.         0.\n",
            "  0.         0.         0.         0.         0.         0.\n",
            "  0.         0.         0.         0.        ]\n",
            " [0.         0.         0.         0.28235292 0.8745098  1.\n",
            "  1.         1.         1.         0.5921569  0.         0.\n",
            "  0.         0.         0.         0.         0.         0.\n",
            "  0.         0.         0.         0.         0.         0.\n",
            "  0.         0.         0.         0.        ]\n",
            " [0.         0.         0.         0.90588236 1.         1.\n",
            "  1.         1.         1.         1.         1.         1.\n",
            "  1.         1.         1.         1.         0.8745098  0.37647057\n",
            "  0.         0.         0.         0.         0.         0.\n",
            "  0.         0.         0.         0.        ]\n",
            " [0.         0.         0.         0.96862745 1.         1.\n",
            "  1.         1.         1.         1.         1.         1.\n",
            "  1.         1.         1.         1.         1.         0.96862745\n",
            "  0.         0.         0.         0.         0.         0.\n",
            "  0.         0.         0.         0.        ]\n",
            " [0.         0.         0.         0.4705882  1.         1.\n",
            "  1.         1.         1.         1.         1.         1.\n",
            "  1.         1.         1.         1.         1.         0.5921569\n",
            "  0.         0.         0.         0.         0.         0.\n",
            "  0.         0.         0.         0.        ]\n",
            " [0.         0.         0.         0.         0.         0.\n",
            "  0.         0.         0.         0.         0.         0.\n",
            "  0.         0.         0.         0.         0.         0.\n",
            "  0.         0.         0.         0.         0.         0.\n",
            "  0.         0.         0.         0.        ]\n",
            " [0.         0.         0.         0.         0.         0.\n",
            "  0.         0.         0.         0.         0.         0.\n",
            "  0.         0.         0.         0.         0.         0.\n",
            "  0.         0.         0.         0.         0.         0.\n",
            "  0.         0.         0.         0.        ]\n",
            " [0.         0.         0.         0.         0.         0.\n",
            "  0.         0.         0.         0.         0.         0.\n",
            "  0.         0.         0.         0.         0.         0.\n",
            "  0.         0.         0.         0.         0.         0.\n",
            "  0.         0.         0.         0.        ]\n",
            " [0.         0.         0.         0.         0.         0.\n",
            "  0.         0.         0.         0.         0.         0.\n",
            "  0.         0.         0.         0.         0.         0.\n",
            "  0.         0.         0.         0.         0.         0.\n",
            "  0.         0.         0.         0.        ]\n",
            " [0.         0.         0.         0.         0.         0.\n",
            "  0.         0.         0.         0.         0.         0.\n",
            "  0.         0.         0.         0.         0.         0.\n",
            "  0.         0.         0.         0.         0.         0.\n",
            "  0.         0.         0.         0.        ]\n",
            " [0.         0.         0.         0.         0.         0.\n",
            "  0.         0.         0.         0.         0.         0.\n",
            "  0.         0.         0.         0.         0.         0.\n",
            "  0.         0.         0.         0.         0.         0.\n",
            "  0.         0.         0.         0.        ]\n",
            " [0.         0.         0.         0.         0.         0.\n",
            "  0.         0.         0.         0.         0.         0.\n",
            "  0.         0.         0.         0.         0.         0.\n",
            "  0.         0.         0.         0.         0.         0.\n",
            "  0.         0.         0.         0.        ]\n",
            " [0.         0.         0.         0.         0.         0.\n",
            "  0.         0.         0.         0.         0.         0.\n",
            "  0.         0.         0.         0.         0.         0.\n",
            "  0.         0.         0.         0.         0.         0.\n",
            "  0.         0.         0.         0.        ]]\n"
          ],
          "name": "stdout"
        },
        {
          "output_type": "display_data",
          "data": {
            "image/png": "[encoded data removed]",
            "text/plain": [
              "<matplotlib.figure.Figure at 0x7f14bb16ea90>"
            ]
          },
          "metadata": {
            "tags": []
          }
        }
      ]
    },
    {
      "metadata": {
        "id": "Fo5-IrMXalal",
        "colab_type": "code",
        "colab": {
          "base_uri": "https://localhost:8080/",
          "height": 34
        },
        "outputId": "2fae588f-10cd-4033-87cf-d203e328a628"
      },
      "cell_type": "code",
      "source": [
        "img=img.reshape(784)\n",
        "print(img.shape)\n",
        "mnist.test.images[0]=img \n",
        "\n",
        "y_predict0=sess.run(y_predict, feed_dict={x: mnist.test.images[:5]})"
      ],
      "execution_count": 194,
      "outputs": [
        {
          "output_type": "stream",
          "text": [
            "(784,)\n"
          ],
          "name": "stdout"
        }
      ]
    },
    {
      "metadata": {
        "id": "UF_h979LeQ3G",
        "colab_type": "code",
        "colab": {
          "base_uri": "https://localhost:8080/",
          "height": 68
        },
        "outputId": "b3317b3b-f145-4f6b-e839-dba0f2183fe5"
      },
      "cell_type": "code",
      "source": [
        "y_predict0[0]"
      ],
      "execution_count": 195,
      "outputs": [
        {
          "output_type": "execute_result",
          "data": {
            "text/plain": [
              "array([1.1053229e-06, 1.1642238e-06, 9.9992466e-01, 4.0141025e-05,\n",
              "       1.7012038e-05, 1.3811906e-07, 7.6026723e-09, 1.5726364e-05,\n",
              "       1.9353250e-08, 6.7145423e-10], dtype=float32)"
            ]
          },
          "metadata": {
            "tags": []
          },
          "execution_count": 195
        }
      ]
    },
    {
      "metadata": {
        "id": "uQr7nrPTkRSy",
        "colab_type": "text"
      },
      "cell_type": "markdown",
      "source": [
        "謝宜庭"
      ]
    }
  ]
}